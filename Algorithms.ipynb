{
 "cells": [
  {
   "cell_type": "markdown",
   "metadata": {},
   "source": [
    "# Algorithms"
   ]
  },
  {
   "cell_type": "markdown",
   "metadata": {},
   "source": [
    "## Dependence"
   ]
  },
  {
   "cell_type": "code",
   "execution_count": 179,
   "metadata": {},
   "outputs": [],
   "source": [
    "# dependence\n",
    "import os\n",
    "import random\n",
    "# env\n",
    "CD = '/Users/yangmo/Downloads'"
   ]
  },
  {
   "cell_type": "markdown",
   "metadata": {},
   "source": [
    "## Tools"
   ]
  },
  {
   "cell_type": "code",
   "execution_count": 163,
   "metadata": {},
   "outputs": [],
   "source": [
    "class DataLoader():\n",
    "    def __init__(self, fileName, numLines = None, processLine=lambda x:x):\n",
    "        self.data = None\n",
    "        self.numLines = numLines\n",
    "        self.file = os.path.join(CD,fileName)\n",
    "        self.processLine = processLine\n",
    "        \n",
    "    def read(self):\n",
    "        print('Loading data ...')\n",
    "        out = []\n",
    "        with open(self.file, 'r') as f:\n",
    "            lines = f.readlines()\n",
    "            for num,line in enumerate(lines):\n",
    "                line = self.processLine(line)\n",
    "                out.append(line)\n",
    "                if self.numLines:\n",
    "                    if num == self.numLines-1:\n",
    "                        break\n",
    "        self.data = out\n",
    "        print(f'Total {len(out)} lines read')\n",
    "        print('-'*50)"
   ]
  },
  {
   "cell_type": "code",
   "execution_count": 162,
   "metadata": {},
   "outputs": [],
   "source": [
    "class Algorithm():\n",
    "    def __init__(self,dataLoader):\n",
    "        self.dataLoader = dataLoader\n",
    "        self.data = None\n",
    "        self.res = None\n",
    "    \n",
    "    def readData(self): # read data from dataLoader\n",
    "        dataLoader.read()\n",
    "        self.data = dataLoader.data\n",
    "    \n",
    "    def algorithm(self):\n",
    "        pass\n",
    "\n",
    "    def run(self, data=None):# given data, use data to run algorithm, if not, load data from dataLoader first\n",
    "        if data:\n",
    "            self.data = data\n",
    "            self.res = self.algorithm()\n",
    "        else:\n",
    "            self.readData()\n",
    "            self.res = self.algorithm()\n",
    "        print(f'result:{self.res}')"
   ]
  },
  {
   "cell_type": "code",
   "execution_count": 29,
   "metadata": {},
   "outputs": [
    {
     "name": "stdout",
     "output_type": "stream",
     "text": [
      "Loading data ...\n",
      "Total 10 lines read\n",
      "[54044, 14108, 79294, 29649, 25260, 60660, 2995, 53777, 49689, 9083]\n"
     ]
    }
   ],
   "source": [
    "# Test DataLoader class\n",
    "processLine = lambda x: int(x.strip())  # define the way to precessing line for dataLoader\n",
    "arg = {'fileName':'test.txt','numLines':10,'processLine':processLine } # prepare arg for dataLoader\n",
    "dataLoader = DataLoader(**arg)\n",
    "dataLoader.read()\n",
    "print(dataLoader.out)"
   ]
  },
  {
   "cell_type": "markdown",
   "metadata": {},
   "source": [
    "# PART 1 Divide and Conquer\n",
    "* Week 2 Counting Inversions (Merget Sort)\n",
    "* Week 3 Quick Sort\n",
    "* Week 4 Randomized Selection "
   ]
  },
  {
   "cell_type": "code",
   "execution_count": 5,
   "metadata": {},
   "outputs": [],
   "source": [
    "##Template\n",
    "\n",
    "def recursion(problem):\n",
    "    if condition: return T(1)\n",
    "    result_1 = recursion(sub_problem_1)\n",
    "    result_2 = recursion(sub_problem_2)\n",
    "    ...\n",
    "    result_n = recursion(sub_problem_2)\n",
    "    total_result = conbine(results)\n",
    "    return total_result "
   ]
  },
  {
   "cell_type": "markdown",
   "metadata": {},
   "source": [
    "### Week 2 Counting Inversions (Merget Sort)"
   ]
  },
  {
   "cell_type": "code",
   "execution_count": 156,
   "metadata": {},
   "outputs": [],
   "source": [
    "class CI(Algorithm):\n",
    "    def __init__(self,dataLoader):\n",
    "        super().__init__(dataLoader)\n",
    "        self.res = None\n",
    "        \n",
    "    def algorithm(self):\n",
    "        def sortNcount(A, n):\n",
    "            if n == 1: return (A,0)\n",
    "            left,right = A[:n//2],A[n//2:]\n",
    "            (B,x) = sortNcount(left,len(left))\n",
    "            (C,y) = sortNcount(right,len(right))\n",
    "            #(D,z) = mergeNcountSplitInv(A,n)\n",
    "            i,j = 0,0\n",
    "            z = 0\n",
    "            D = [0]*n\n",
    "            for k in range(n):\n",
    "                #print(f'i:{i}; j:{j}; len(B):{len(B)}; len(C):{len(C)}')\n",
    "                if B[i]<C[j]:\n",
    "                    D[k]=B[i]\n",
    "                    i+=1\n",
    "                else:\n",
    "                    D[k]=C[j]\n",
    "                    j+=1\n",
    "                    z+=(len(B)-i)\n",
    "                if i==len(B):\n",
    "                    D[k+1:]=C[j:]\n",
    "                    break\n",
    "                elif j==len(C):\n",
    "                    D[k+1:]=B[i:]\n",
    "                    break\n",
    "            return D,x+y+z\n",
    "        return sortNcount(self.data,len(self.data))\n",
    "         \n",
    "    def run(self, data=None):# given data, use data to run algorithm, if not, load data from dataLoader first\n",
    "        if data:\n",
    "            self.data = data\n",
    "            self.res = self.algorithm()\n",
    "        else:\n",
    "            self.readData()\n",
    "            self.res = self.algorithm()\n",
    "        print(f'result: {self.res[1]}')"
   ]
  },
  {
   "cell_type": "code",
   "execution_count": 157,
   "metadata": {},
   "outputs": [
    {
     "name": "stdout",
     "output_type": "stream",
     "text": [
      "Loading data ...\n",
      "Total 100 lines read\n",
      "--------------------------------------------------\n",
      "result: 2461\n"
     ]
    }
   ],
   "source": [
    "## test CI\n",
    "processLine = lambda x: int(x.strip())\n",
    "arg = {'fileName':'test.txt','numLines':100,'processLine':processLine }\n",
    "dataLoader = DataLoader(**arg)\n",
    "ci = CI(dataLoader)\n",
    "ci.run()"
   ]
  },
  {
   "cell_type": "markdown",
   "metadata": {},
   "source": [
    "### Week 3 Quick Sort"
   ]
  },
  {
   "cell_type": "code",
   "execution_count": 151,
   "metadata": {},
   "outputs": [],
   "source": [
    "class QS(Algorithm):\n",
    "    def __init__(self,dataLoader=None):\n",
    "        super().__init__(dataLoader)\n",
    "        self.assignment = 0\n",
    "        self.methods = [self.first,self.last, self.median] #self.median]\n",
    "    \n",
    "    def first(self,r,l):\n",
    "        return r\n",
    "    \n",
    "    def last(self,r,l):\n",
    "        return l\n",
    "        \n",
    "    def median(self,l,r):\n",
    "        candidate = [(l,self.data[l]),((r-l)//2+l, self.data[(r-l)//2+l]),(r, self.data[r])]\n",
    "        candidate.sort(key=lambda x:x[1])\n",
    "        return candidate[1][0]\n",
    "        \n",
    "    def algorithm(self,method):\n",
    "        def quickSort(l,r):\n",
    "            if r-l<1: return\n",
    "            self.assignment+=(r-l)\n",
    "            c = method(l,r)\n",
    "            p = self.partition(l,r,c)\n",
    "            quickSort(l,max(l,p-1))\n",
    "            quickSort(min(r,p+1),r)\n",
    "        quickSort(0,len(self.data)-1)\n",
    "        return self.data\n",
    "    \n",
    "    def partition(self,l,r,c): # inplace O(n) swap partition\n",
    "            self.data[c],self.data[l]=self.data[l],self.data[c]\n",
    "            p = self.data[l]  # how to chose pivot\n",
    "            i = l+1\n",
    "            for j in range(i,r+1):\n",
    "                if self.data[j]<p:\n",
    "                    self.data[i],self.data[j]=self.data[j],self.data[i]\n",
    "                    i+=1\n",
    "            self.data[l],self.data[i-1] = self.data[i-1],self.data[l]\n",
    "            return i-1\n",
    "        \n",
    "    def run(self, data=None):\n",
    "        if data:\n",
    "            self.data = data\n",
    "            self.algorithm(self.first)\n",
    "        else:\n",
    "            for method in self.methods:\n",
    "                self.assignment = 0\n",
    "                self.readData()\n",
    "                self.algorithm(method)\n",
    "                print(f'* {method.__name__}:{self.assignment}')\n",
    "                print('='*50,end='\\n'*2)\n"
   ]
  },
  {
   "cell_type": "code",
   "execution_count": 152,
   "metadata": {},
   "outputs": [
    {
     "name": "stdout",
     "output_type": "stream",
     "text": [
      "Loading data ...\n",
      "Total 10000 lines read\n",
      "--------------------------------------------------\n",
      "* first:162085\n",
      "==================================================\n",
      "\n",
      "Loading data ...\n",
      "Total 10000 lines read\n",
      "--------------------------------------------------\n",
      "* last:164123\n",
      "==================================================\n",
      "\n",
      "Loading data ...\n",
      "Total 10000 lines read\n",
      "--------------------------------------------------\n",
      "* median:138382\n",
      "==================================================\n",
      "\n"
     ]
    }
   ],
   "source": [
    "# Test quickSort\n",
    "processLine = lambda x: int(x.strip())\n",
    "arg = {'fileName':'QuickSort.txt','numLines':None,'processLine':processLine }\n",
    "dataLoader = DataLoader(**arg)\n",
    "qs = QS(dataLoader)\n",
    "qs.run()"
   ]
  },
  {
   "cell_type": "markdown",
   "metadata": {},
   "source": [
    "### Week 4 Randomized Selection"
   ]
  },
  {
   "cell_type": "code",
   "execution_count": 218,
   "metadata": {},
   "outputs": [],
   "source": [
    "class MinCut(Algorithm):\n",
    "    def __init__(self, dataLoader):\n",
    "        super().__init__(dataLoader)\n",
    "        self.candidates=[]\n",
    "    \n",
    "    def preprocess(self):\n",
    "        out = {}\n",
    "        for line in self.data:\n",
    "            out[line[0]]=line[1:]\n",
    "        self.data = out\n",
    "        \n",
    "    def algorithm(self):\n",
    "        while len(self.data)>2:\n",
    "            ## random find one edge\n",
    "            pool=[]\n",
    "            for key,array in self.data.items():\n",
    "                for ele in array:\n",
    "                    pool.append((key,ele))\n",
    "            edge=random.choice(pool)\n",
    "            ## merge two vertex\n",
    "            head,tail = edge\n",
    "            self.data[head]= self.data[head]+self.data[tail]\n",
    "            del(self.data[tail])\n",
    "            for vertex in self.data:\n",
    "                self.data[vertex]=[x if x!=tail else head for x in self.data[vertex]]\n",
    "            # remove self-loop\n",
    "            self.data[head]=[x for x in self.data[head] if x!=head and x!=tail]\n",
    "        num = 0\n",
    "        for vertex in self.data:\n",
    "            num+=len(self.data[vertex])\n",
    "        self.candidates.append(num/2)\n",
    "        \n",
    "    def run(self, times):\n",
    "        for i in range(times):\n",
    "            self.readData()\n",
    "            self.preprocess()\n",
    "            self.algorithm()\n",
    "            \n",
    "        print(f'Cuts:{self.candidates}, minCut:{min(self.candidates)}')\n",
    "        "
   ]
  },
  {
   "cell_type": "code",
   "execution_count": 222,
   "metadata": {},
   "outputs": [
    {
     "name": "stdout",
     "output_type": "stream",
     "text": [
      "Loading data ...\n",
      "Total 200 lines read\n",
      "--------------------------------------------------\n",
      "Loading data ...\n",
      "Total 200 lines read\n",
      "--------------------------------------------------\n",
      "Cuts:[31.0, 44.0], minCut:31.0\n"
     ]
    }
   ],
   "source": [
    "## test read graph\n",
    "processLine = lambda line : list(map(int,line.split()))\n",
    "arg = {'fileName':'kargerMinCut.txt','numLines':None,'processLine':processLine }\n",
    "dataLoader = DataLoader(**arg)\n",
    "mc = MinCut(dataLoader)\n",
    "mc.run(2)"
   ]
  }
 ],
 "metadata": {
  "kernelspec": {
   "display_name": "Python 3",
   "language": "python",
   "name": "python3"
  },
  "language_info": {
   "codemirror_mode": {
    "name": "ipython",
    "version": 3
   },
   "file_extension": ".py",
   "mimetype": "text/x-python",
   "name": "python",
   "nbconvert_exporter": "python",
   "pygments_lexer": "ipython3",
   "version": "3.7.3"
  }
 },
 "nbformat": 4,
 "nbformat_minor": 2
}
